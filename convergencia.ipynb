{
 "cells": [
  {
   "cell_type": "code",
   "execution_count": 1,
   "metadata": {},
   "outputs": [],
   "source": [
    "import numpy as np\n",
    "import pandas as pd\n",
    "import matplotlib.pyplot as plt\n",
    "import seaborn as sns\n",
    "import win32com.client as win32\n",
    "import sqlite3 as sql\n",
    "from scipy.optimize import minimize\n",
    "from scipy.optimize import fsolve\n",
    "import time"
   ]
  },
  {
   "cell_type": "code",
   "execution_count": 2,
   "metadata": {},
   "outputs": [
    {
     "name": "stdout",
     "output_type": "stream",
     "text": [
      "Aspen cargado\n"
     ]
    }
   ],
   "source": [
    "aspen=win32.Dispatch('Apwn.Document')\n",
    "direccion=\"C:\\\\Users\\\\ASUS\\\\Documents\\\\Universidad\\\\Tesis\\\\Convergencia_Newton\\\\Simulación\\\\equation_oriented.apw\"\n",
    "\n",
    "# def doble_line(dir):\n",
    "#     return s.replace(\"\\\\\", \"\\\\\\\\\")\n",
    "\n",
    "# direccion=doble_line(direccion)\n",
    "aspen.InitFromArchive2(direccion)\n",
    "aspen.visible=False\n",
    "print(f\"Aspen cargado\")\n",
    "def correr_simulacion(aspen):\n",
    "    aspen.Engine.Run2()\n",
    "    while aspen.Engine.isRunning:\n",
    "        time.sleep(0.5)\n",
    "\n"
   ]
  },
  {
   "cell_type": "code",
   "execution_count": 3,
   "metadata": {},
   "outputs": [],
   "source": [
    "def error(x1,x2):\n",
    "    return abs(x1-x2)\n",
    "def calculo_error(x,args):\n",
    "    aspen=args\n",
    "    flujo,x1,x2=x\n",
    "    x3=1-x1-x2\n",
    "    if x1+x2>=1:\n",
    "        x1=x1/(x1+x2)\n",
    "        x2=x2/(x1+x2)\n",
    "        x3=0\n",
    "    bloques=aspen.Tree.Elements.Item('Data').Elements.Item('Blocks')\n",
    "    corrientes=aspen.Tree.Elements.Item('Data').Elements.Item('Streams')\n",
    "    corriente_ingreso=corrientes.Elements.Item('GLR+').Elements.Item(\"Input\")\n",
    "    Flujo_ingreso=corriente_ingreso.Elements.Item(\"TOTFLOW\").Elements.Item(\"MIXED\")\n",
    "    Flujo_ingreso.Value=flujo\n",
    "    concentracion_ingreso=corriente_ingreso.Elements.Item(\"FLOW\").Elements.Item(\"MIXED\")\n",
    "        \n",
    "    concentracion_ingreso.Elements.Item(\"GLYCE-01\").Value=x1\n",
    "    concentracion_ingreso.Elements.Item(\"WATER\").Value=x2\n",
    "    concentracion_ingreso.Elements.Item(\"ETHAN-01\").Value=x3\n",
    "    \n",
    "    correr_simulacion(aspen)\n",
    "    \n",
    "    corriente_salida=corrientes.Elements.Item('GLR').Elements.Item(\"Output\")\n",
    "    flujo_salida=corriente_salida.Elements.Item(\"TOT_FLOW\").Value\n",
    "    concentracion_salida=corriente_salida.Elements.Item(\"MOLEFRAC\").Elements.Item(\"MIXED\")\n",
    "    salida_glicerina=concentracion_salida.Elements.Item(\"GLYCE-01\").Value\n",
    "    salida_agua=concentracion_salida.Elements.Item(\"WATER\").Value\n",
    "    salida_etanol=concentracion_salida.Elements.Item(\"ETHAN-01\").Value\n",
    "    error_glicerina=error(salida_glicerina,x1)\n",
    "    error_agua=error(salida_agua,1-x1)\n",
    "    error_flujo=error(flujo_salida,flujo)\n",
    "    error_etanol=error(salida_etanol,1-x1-x2)\n",
    "    # return error_glicerina,error_agua,error_flujo\n",
    "    norma=np.linalg.norm([error_glicerina,error_agua,error_flujo,error_etanol])\n",
    "    return norma\n",
    "    # norma_concentracion=np.linalg.norm([error_glicerina,error_agua,error_etanol])\n",
    "    # return error_flujo,error_glicerina,error_agua\n",
    "    \n",
    "    "
   ]
  },
  {
   "cell_type": "code",
   "execution_count": 4,
   "metadata": {},
   "outputs": [
    {
     "name": "stdout",
     "output_type": "stream",
     "text": [
      "1.146889008637256\n",
      "  message: CONVERGENCE: REL_REDUCTION_OF_F_<=_FACTR*EPSMCH\n",
      "  success: True\n",
      "   status: 0\n",
      "      fun: 0.02432500245518916\n",
      "        x: [ 9.865e+01  9.999e-01  1.026e-04]\n",
      "      nit: 5\n",
      "      jac: [ 1.000e+00  6.575e-07  8.397e-03]\n",
      "     nfev: 140\n",
      "     njev: 35\n",
      " hess_inv: <3x3 LbfgsInvHessProduct with dtype=float64>\n"
     ]
    }
   ],
   "source": [
    "# correr_simulacion(aspen)\n",
    "vector=[99.8,0.9999,0.0001]\n",
    "args=aspen\n",
    "limites=[(0,99.9999),(0.98,1),(0,0.02)]\n",
    "print(calculo_error(vector,args))\n",
    "maxiter=100\n",
    "result=minimize(calculo_error,vector,args=args,bounds=limites,options={'maxiter':maxiter})\n",
    "# result=fsolve(calculo_error,vector,args=args,xtol=1e-6)\n",
    "print(result)"
   ]
  },
  {
   "cell_type": "code",
   "execution_count": 5,
   "metadata": {},
   "outputs": [
    {
     "name": "stdout",
     "output_type": "stream",
     "text": [
      "0.02432500245521985\n"
     ]
    }
   ],
   "source": [
    "print(calculo_error(result.x,args))"
   ]
  },
  {
   "cell_type": "code",
   "execution_count": 6,
   "metadata": {},
   "outputs": [],
   "source": [
    "aspen.Close()"
   ]
  }
 ],
 "metadata": {
  "kernelspec": {
   "display_name": "Tesis",
   "language": "python",
   "name": "python3"
  },
  "language_info": {
   "codemirror_mode": {
    "name": "ipython",
    "version": 3
   },
   "file_extension": ".py",
   "mimetype": "text/x-python",
   "name": "python",
   "nbconvert_exporter": "python",
   "pygments_lexer": "ipython3",
   "version": "3.11.9"
  }
 },
 "nbformat": 4,
 "nbformat_minor": 2
}
