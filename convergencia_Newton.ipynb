{
 "cells": [
  {
   "cell_type": "code",
   "execution_count": 121,
   "metadata": {},
   "outputs": [],
   "source": [
    "import numpy as np\n",
    "import pandas as pd\n",
    "import matplotlib.pyplot as plt\n",
    "import seaborn as sns\n",
    "import win32com.client as win32\n",
    "import sqlite3 as sql\n",
    "from scipy.optimize import minimize\n",
    "from scipy.optimize import fsolve\n",
    "import time"
   ]
  },
  {
   "cell_type": "code",
   "execution_count": 133,
   "metadata": {},
   "outputs": [
    {
     "name": "stdout",
     "output_type": "stream",
     "text": [
      "Aspen cargado\n"
     ]
    }
   ],
   "source": [
    "aspen=win32.Dispatch('Apwn.Document')\n",
    "direccion=\"C:\\\\Users\\\\ASUS\\\\Documents\\\\Universidad\\\\Tesis\\\\Convergencia_Newton\\\\Simulación\\\\equation_oriented.apw\"\n",
    "\n",
    "# def doble_line(dir):\n",
    "#     return s.replace(\"\\\\\", \"\\\\\\\\\")\n",
    "\n",
    "# direccion=doble_line(direccion)\n",
    "aspen.InitFromArchive2(direccion)\n",
    "aspen.visible=False\n",
    "print(f\"Aspen cargado\")\n",
    "def correr_simulacion(aspen):\n",
    "    aspen.Engine.Run2()\n",
    "    while aspen.Engine.isRunning:\n",
    "        time.sleep(1)\n",
    "\n"
   ]
  },
  {
   "cell_type": "code",
   "execution_count": 134,
   "metadata": {},
   "outputs": [],
   "source": [
    "def error(x1,x2):\n",
    "    return abs(x1-x2)/x1\n",
    "def calculo_error(x,args):\n",
    "    aspen=args\n",
    "    flujo,x1,x2=x\n",
    "    x3=1-x1-x2\n",
    "    if x1+x2>=1:\n",
    "        x1=x1/(x1+x2)\n",
    "        x2=x2/(x1+x2)\n",
    "        x3=0\n",
    "    if x1>=1:\n",
    "        x1=1\n",
    "        x2=0\n",
    "        x3=0\n",
    "    if x2<=0:\n",
    "        x2=0\n",
    "    bloques=aspen.Tree.Elements.Item('Data').Elements.Item('Blocks')\n",
    "    corrientes=aspen.Tree.Elements.Item('Data').Elements.Item('Streams')\n",
    "    corriente_ingreso=corrientes.Elements.Item('GLR+').Elements.Item(\"Input\")\n",
    "    Flujo_ingreso=corriente_ingreso.Elements.Item(\"TOTFLOW\").Elements.Item(\"MIXED\")\n",
    "    Flujo_ingreso.Value=flujo\n",
    "    concentracion_ingreso=corriente_ingreso.Elements.Item(\"FLOW\").Elements.Item(\"MIXED\")\n",
    "        \n",
    "    concentracion_ingreso.Elements.Item(\"GLYCE-01\").Value=x1\n",
    "    concentracion_ingreso.Elements.Item(\"WATER\").Value=x2\n",
    "    concentracion_ingreso.Elements.Item(\"ETHAN-01\").Value=x3\n",
    "    \n",
    "    correr_simulacion(aspen)\n",
    "    \n",
    "    corriente_salida=corrientes.Elements.Item('GLR').Elements.Item(\"Output\")\n",
    "    flujo_salida=corriente_salida.Elements.Item(\"TOT_FLOW\").Value\n",
    "    concentracion_salida=corriente_salida.Elements.Item(\"MOLEFRAC\").Elements.Item(\"MIXED\")\n",
    "    salida_glicerina=concentracion_salida.Elements.Item(\"GLYCE-01\").Value\n",
    "    salida_agua=concentracion_salida.Elements.Item(\"WATER\").Value\n",
    "    salida_etanol=concentracion_salida.Elements.Item(\"ETHAN-01\").Value\n",
    "    error_glicerina=error(salida_glicerina,x1)\n",
    "    error_agua=error(salida_agua,1-x1)\n",
    "    error_flujo=error(flujo_salida,flujo)\n",
    "    error_etanol=error(salida_etanol,1-x1-x2)\n",
    "    return [error_flujo,error_glicerina,error_agua]\n",
    "    # norma=np.linalg.norm([error_glicerina,error_agua,error_flujo,error_etanol])\n",
    "    # return norma\n",
    "    \n",
    "    "
   ]
  },
  {
   "cell_type": "code",
   "execution_count": 135,
   "metadata": {},
   "outputs": [],
   "source": [
    "def jacobiano(variables,ASPEN):\n",
    "    flujo,x1,x2=variables\n",
    "    delta=0.001\n",
    "    flujo_1=flujo+delta*flujo\n",
    "    flujo_2=flujo-delta*flujo\n",
    "    x1_1=x1+delta*x1\n",
    "    x1_2=x1-delta*x1\n",
    "    x2_1=x2+delta*x2\n",
    "    x2_2=x2-delta*x2\n",
    "    if x1_1>=1:\n",
    "        x1_1=1\n",
    "    if x1>1:\n",
    "        x1=1\n",
    "    if x2_1<0:\n",
    "        x2_1=0\n",
    "    delta_flujo=(flujo_1-flujo_2)\n",
    "    delta_x1=x1_1-x1_2\n",
    "    delta_x2=x2_1-x2_2\n",
    "    J=np.zeros((3,3))\n",
    "    J[0,0]=(calculo_error([flujo_1,x1,x2],ASPEN)[0]-calculo_error([flujo_2,x1,x2],ASPEN)[0])/delta_flujo\n",
    "    J[0,1]=(calculo_error([flujo,x1_1,x2],ASPEN)[0]-calculo_error([flujo,x1_2,x2],ASPEN)[0])/delta_x1\n",
    "    J[0,2]=(calculo_error([flujo,x1,x2_1],ASPEN)[0]-calculo_error([flujo,x1,x2_2],ASPEN)[0])/delta_x2\n",
    "    J[1,0]=(calculo_error([flujo_1,x1,x2],ASPEN)[1]-calculo_error([flujo_2,x1,x2],ASPEN)[1])/delta_flujo\n",
    "    J[1,1]=(calculo_error([flujo,x1_1,x2],ASPEN)[1]-calculo_error([flujo,x1_2,x2],ASPEN)[1])/delta_x1\n",
    "    J[1,2]=(calculo_error([flujo,x1,x2_1],ASPEN)[1]-calculo_error([flujo,x1,x2_2],ASPEN)[1])/delta_x2\n",
    "    J[2,0]=(calculo_error([flujo_1,x1,x2],ASPEN)[2]-calculo_error([flujo_2,x1,x2],ASPEN)[2])/delta_flujo\n",
    "    J[2,1]=(calculo_error([flujo,x1_1,x2],ASPEN)[2]-calculo_error([flujo,x1_2,x2],ASPEN)[2])/delta_x1\n",
    "    J[2,2]=(calculo_error([flujo,x1,x2_1],ASPEN)[2]-calculo_error([flujo,x1,x2_2],ASPEN)[2])/delta_x2\n",
    "    return J\n",
    "    "
   ]
  },
  {
   "cell_type": "code",
   "execution_count": 136,
   "metadata": {},
   "outputs": [],
   "source": [
    "def newton_raphson(f,variables,ASPEN,iteraciones=10):\n",
    "    tol=1e-6\n",
    "    error=1\n",
    "    iteracion=0\n",
    "    memoria=np.zeros((0,3))\n",
    "    memoria=np.append(memoria,[variables],axis=0)\n",
    "    while error>tol and iteracion<iteraciones:\n",
    "        J=jacobiano(variables,ASPEN)\n",
    "        print(J)\n",
    "        F=np.array(f(variables,ASPEN))\n",
    "        delta=np.linalg.inv(J).dot(-F)\n",
    "        # delta=np.linalg.solve(J,-F)\n",
    "        variables=variables+delta\n",
    "        error=np.linalg.norm(F)\n",
    "        memoria=np.append(memoria,[variables],axis=0)\n",
    "        print(iteracion)\n",
    "        iteracion+=1\n",
    "    return variables,memoria,iteracion,F"
   ]
  },
  {
   "cell_type": "code",
   "execution_count": 137,
   "metadata": {},
   "outputs": [
    {
     "data": {
      "text/plain": [
       "[0.003516249984250415, 0.0002995251422744098, 630.5470070446668]"
      ]
     },
     "execution_count": 137,
     "metadata": {},
     "output_type": "execute_result"
    }
   ],
   "source": [
    "x=[99,0.9997,0.00029]\n",
    "calculo_error(x,aspen)"
   ]
  },
  {
   "cell_type": "code",
   "execution_count": 138,
   "metadata": {},
   "outputs": [
    {
     "data": {
      "text/plain": [
       "array([[-3.56426015e-05,  0.00000000e+00,  0.00000000e+00],\n",
       "       [-2.52449739e-08, -7.76928958e-01, -1.72362228e-03],\n",
       "       [-3.02819310e+01, -1.59705355e+06, -9.10843233e+05]])"
      ]
     },
     "execution_count": 138,
     "metadata": {},
     "output_type": "execute_result"
    }
   ],
   "source": [
    "jacobiano(x,aspen)"
   ]
  },
  {
   "cell_type": "code",
   "execution_count": 139,
   "metadata": {},
   "outputs": [
    {
     "name": "stdout",
     "output_type": "stream",
     "text": [
      "[[-3.56426015e-05  0.00000000e+00  0.00000000e+00]\n",
      " [-2.52449739e-08 -7.76928958e-01 -1.72362228e-03]\n",
      " [-3.02819310e+01 -1.59705355e+06 -9.10843233e+05]]\n",
      "0\n",
      "[[-3.49484563e-05  0.00000000e+00  0.00000000e+00]\n",
      " [-5.71291001e-05 -1.17741648e+00  0.00000000e+00]\n",
      " [ 0.00000000e+00  8.82542677e+01  0.00000000e+00]]\n"
     ]
    },
    {
     "ename": "LinAlgError",
     "evalue": "Singular matrix",
     "output_type": "error",
     "traceback": [
      "\u001b[1;31m---------------------------------------------------------------------------\u001b[0m",
      "\u001b[1;31mLinAlgError\u001b[0m                               Traceback (most recent call last)",
      "Cell \u001b[1;32mIn[139], line 1\u001b[0m\n\u001b[1;32m----> 1\u001b[0m \u001b[43mnewton_raphson\u001b[49m\u001b[43m(\u001b[49m\u001b[43mcalculo_error\u001b[49m\u001b[43m,\u001b[49m\u001b[43mx\u001b[49m\u001b[43m,\u001b[49m\u001b[43maspen\u001b[49m\u001b[43m,\u001b[49m\u001b[43miteraciones\u001b[49m\u001b[38;5;241;43m=\u001b[39;49m\u001b[38;5;241;43m10\u001b[39;49m\u001b[43m)\u001b[49m\n",
      "Cell \u001b[1;32mIn[136], line 11\u001b[0m, in \u001b[0;36mnewton_raphson\u001b[1;34m(f, variables, ASPEN, iteraciones)\u001b[0m\n\u001b[0;32m      9\u001b[0m \u001b[38;5;28mprint\u001b[39m(J)\n\u001b[0;32m     10\u001b[0m F\u001b[38;5;241m=\u001b[39mnp\u001b[38;5;241m.\u001b[39marray(f(variables,ASPEN))\n\u001b[1;32m---> 11\u001b[0m delta\u001b[38;5;241m=\u001b[39m\u001b[43mnp\u001b[49m\u001b[38;5;241;43m.\u001b[39;49m\u001b[43mlinalg\u001b[49m\u001b[38;5;241;43m.\u001b[39;49m\u001b[43minv\u001b[49m\u001b[43m(\u001b[49m\u001b[43mJ\u001b[49m\u001b[43m)\u001b[49m\u001b[38;5;241m.\u001b[39mdot(\u001b[38;5;241m-\u001b[39mF)\n\u001b[0;32m     12\u001b[0m \u001b[38;5;66;03m# delta=np.linalg.solve(J,-F)\u001b[39;00m\n\u001b[0;32m     13\u001b[0m variables\u001b[38;5;241m=\u001b[39mvariables\u001b[38;5;241m+\u001b[39mdelta\n",
      "File \u001b[1;32mc:\\Users\\ASUS\\anaconda3\\envs\\Tesis\\Lib\\site-packages\\numpy\\linalg\\linalg.py:561\u001b[0m, in \u001b[0;36minv\u001b[1;34m(a)\u001b[0m\n\u001b[0;32m    559\u001b[0m signature \u001b[38;5;241m=\u001b[39m \u001b[38;5;124m'\u001b[39m\u001b[38;5;124mD->D\u001b[39m\u001b[38;5;124m'\u001b[39m \u001b[38;5;28;01mif\u001b[39;00m isComplexType(t) \u001b[38;5;28;01melse\u001b[39;00m \u001b[38;5;124m'\u001b[39m\u001b[38;5;124md->d\u001b[39m\u001b[38;5;124m'\u001b[39m\n\u001b[0;32m    560\u001b[0m extobj \u001b[38;5;241m=\u001b[39m get_linalg_error_extobj(_raise_linalgerror_singular)\n\u001b[1;32m--> 561\u001b[0m ainv \u001b[38;5;241m=\u001b[39m \u001b[43m_umath_linalg\u001b[49m\u001b[38;5;241;43m.\u001b[39;49m\u001b[43minv\u001b[49m\u001b[43m(\u001b[49m\u001b[43ma\u001b[49m\u001b[43m,\u001b[49m\u001b[43m \u001b[49m\u001b[43msignature\u001b[49m\u001b[38;5;241;43m=\u001b[39;49m\u001b[43msignature\u001b[49m\u001b[43m,\u001b[49m\u001b[43m \u001b[49m\u001b[43mextobj\u001b[49m\u001b[38;5;241;43m=\u001b[39;49m\u001b[43mextobj\u001b[49m\u001b[43m)\u001b[49m\n\u001b[0;32m    562\u001b[0m \u001b[38;5;28;01mreturn\u001b[39;00m wrap(ainv\u001b[38;5;241m.\u001b[39mastype(result_t, copy\u001b[38;5;241m=\u001b[39m\u001b[38;5;28;01mFalse\u001b[39;00m))\n",
      "File \u001b[1;32mc:\\Users\\ASUS\\anaconda3\\envs\\Tesis\\Lib\\site-packages\\numpy\\linalg\\linalg.py:112\u001b[0m, in \u001b[0;36m_raise_linalgerror_singular\u001b[1;34m(err, flag)\u001b[0m\n\u001b[0;32m    111\u001b[0m \u001b[38;5;28;01mdef\u001b[39;00m \u001b[38;5;21m_raise_linalgerror_singular\u001b[39m(err, flag):\n\u001b[1;32m--> 112\u001b[0m     \u001b[38;5;28;01mraise\u001b[39;00m LinAlgError(\u001b[38;5;124m\"\u001b[39m\u001b[38;5;124mSingular matrix\u001b[39m\u001b[38;5;124m\"\u001b[39m)\n",
      "\u001b[1;31mLinAlgError\u001b[0m: Singular matrix"
     ]
    }
   ],
   "source": [
    "newton_raphson(calculo_error,x,aspen,iteraciones=10)"
   ]
  },
  {
   "cell_type": "code",
   "execution_count": 141,
   "metadata": {},
   "outputs": [
    {
     "ename": "com_error",
     "evalue": "(-2147417848, 'El objeto invocado ha desconectado de sus clientes.', None, None)",
     "output_type": "error",
     "traceback": [
      "\u001b[1;31m---------------------------------------------------------------------------\u001b[0m",
      "\u001b[1;31mcom_error\u001b[0m                                 Traceback (most recent call last)",
      "Cell \u001b[1;32mIn[141], line 1\u001b[0m\n\u001b[1;32m----> 1\u001b[0m \u001b[43maspen\u001b[49m\u001b[38;5;241;43m.\u001b[39;49m\u001b[43mClose\u001b[49m\u001b[43m(\u001b[49m\u001b[43m)\u001b[49m\n\u001b[0;32m      2\u001b[0m aspen\u001b[38;5;241m.\u001b[39mQuit()\n",
      "File \u001b[1;32m<COMObject Apwn.Document>:2\u001b[0m, in \u001b[0;36mClose\u001b[1;34m(self, reserved)\u001b[0m\n",
      "\u001b[1;31mcom_error\u001b[0m: (-2147417848, 'El objeto invocado ha desconectado de sus clientes.', None, None)"
     ]
    }
   ],
   "source": [
    "aspen.Close()\n",
    "aspen.Quit()"
   ]
  }
 ],
 "metadata": {
  "kernelspec": {
   "display_name": "Tesis",
   "language": "python",
   "name": "python3"
  },
  "language_info": {
   "codemirror_mode": {
    "name": "ipython",
    "version": 3
   },
   "file_extension": ".py",
   "mimetype": "text/x-python",
   "name": "python",
   "nbconvert_exporter": "python",
   "pygments_lexer": "ipython3",
   "version": "3.11.9"
  }
 },
 "nbformat": 4,
 "nbformat_minor": 2
}
