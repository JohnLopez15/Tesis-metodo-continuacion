{
 "cells": [
  {
   "cell_type": "code",
   "execution_count": 1,
   "metadata": {},
   "outputs": [],
   "source": [
    "import numpy as np\n",
    "import pandas as pd\n",
    "import matplotlib.pyplot as plt\n",
    "import seaborn as sns\n",
    "import win32com.client as win32\n",
    "import sqlite3 as sql\n",
    "from scipy.optimize import minimize\n",
    "from scipy.optimize import fsolve\n",
    "import time"
   ]
  },
  {
   "cell_type": "code",
   "execution_count": 2,
   "metadata": {},
   "outputs": [
    {
     "name": "stdout",
     "output_type": "stream",
     "text": [
      "Aspen cargado\n"
     ]
    }
   ],
   "source": [
    "aspen=win32.Dispatch('Apwn.Document')\n",
    "direccion=\"C:\\\\Users\\\\ASUS\\\\Documents\\\\Universidad\\\\Tesis\\\\Convergencia_Newton\\\\Simulación\\\\equation_oriented.apw\"\n",
    "\n",
    "aspen.InitFromArchive2(direccion)\n",
    "aspen.visible=False\n",
    "print(f\"Aspen cargado\")\n",
    "def correr_simulacion(aspen):\n",
    "    aspen.Engine.Run2()\n",
    "    while aspen.Engine.isRunning:\n",
    "        time.sleep(1)\n",
    "\n"
   ]
  },
  {
   "cell_type": "code",
   "execution_count": 3,
   "metadata": {},
   "outputs": [],
   "source": [
    "def error(x1,x2):\n",
    "    return (x1-x2)/x1\n",
    "def calculo_error(x,args):\n",
    "    aspen=args\n",
    "    # Se realiza un analisis solo para dos variables, el flujo y una concentración\n",
    "    # Se considera que la concentración de etanol se aproxima a 0, por lo que habria solo dos componentes en la mezcla\n",
    "    flujo,x1=x\n",
    "    x2=1-x1\n",
    "    if x1>=1:\n",
    "        x1=1\n",
    "        x2=0\n",
    "    # bloques=aspen.Tree.Elements.Item('Data').Elements.Item('Blocks')\n",
    "    corrientes=aspen.Tree.Elements.Item('Data').Elements.Item('Streams')\n",
    "    corriente_ingreso=corrientes.Elements.Item('GLR+').Elements.Item(\"Input\")\n",
    "    Flujo_ingreso=corriente_ingreso.Elements.Item(\"TOTFLOW\").Elements.Item(\"MIXED\")\n",
    "    Flujo_ingreso.Value=flujo\n",
    "    concentracion_ingreso=corriente_ingreso.Elements.Item(\"FLOW\").Elements.Item(\"MIXED\")\n",
    "        \n",
    "    concentracion_ingreso.Elements.Item(\"GLYCE-01\").Value=x1\n",
    "    concentracion_ingreso.Elements.Item(\"WATER\").Value=x2\n",
    "    # concentracion_ingreso.Elements.Item(\"ETHAN-01\").Value=x3\n",
    "    \n",
    "    correr_simulacion(aspen)\n",
    "    \n",
    "    corriente_salida=corrientes.Elements.Item('GLR').Elements.Item(\"Output\")\n",
    "    flujo_salida=corriente_salida.Elements.Item(\"TOT_FLOW\").Value\n",
    "    concentracion_salida=corriente_salida.Elements.Item(\"MOLEFRAC\").Elements.Item(\"MIXED\")\n",
    "    salida_glicerina=concentracion_salida.Elements.Item(\"GLYCE-01\").Value\n",
    "    salida_agua=concentracion_salida.Elements.Item(\"WATER\").Value\n",
    "    salida_etanol=concentracion_salida.Elements.Item(\"ETHAN-01\").Value\n",
    "    error_glicerina=error(salida_glicerina,x1)\n",
    "    # error_agua=error(salida_agua,1-x1)\n",
    "    error_flujo=error(flujo_salida,flujo)\n",
    "    # print(f\"el flujo supuesto es {flujo} y el flujo real es {flujo_salida}\")\n",
    "    # error_etanol=error(salida_etanol,1-x1-x2)\n",
    "    return [error_flujo,error_glicerina]\n",
    "    # norma=np.linalg.norm([error_glicerina,error_agua,error_flujo,error_etanol])\n",
    "    # return norma\n",
    "    \n",
    "    "
   ]
  },
  {
   "cell_type": "code",
   "execution_count": 10,
   "metadata": {},
   "outputs": [],
   "source": [
    "def jacobiano(variables,ASPEN):\n",
    "    # Estas son las variables que se van a modificar, en este caso el flujo y la concentración\n",
    "    flujo,x1=variables\n",
    "    delta=0.0001\n",
    "    \n",
    "    flujo_1=flujo+delta*flujo\n",
    "    flujo_2=flujo-delta*flujo\n",
    "    \n",
    "    x1_1=x1+delta*x1\n",
    "    x1_2=x1-delta*x1\n",
    "    \n",
    "    DS=ASPEN.Tree.Elements.Item(\"Data\").Elements.Item(\"Flowsheeting Options\").Elements.Item(\"Design-Spec\")\n",
    "    Limite_Flujo=DS.Elements.Item(\"DS-1\").Elements.Item(\"Input\").Elements.Item(\"EXPR2\").Value\n",
    "    Limite_Flujo=int(Limite_Flujo)\n",
    "    if x1_1>=1:\n",
    "        x1_1=1\n",
    "        x1_2=1-2*delta\n",
    "    if flujo_1>=Limite_Flujo:\n",
    "        flujo_1=Limite_Flujo\n",
    "        flujo_2=Limite_Flujo-2*delta\n",
    "    delta_flujo=flujo_1-flujo_2\n",
    "    delta_x1=x1_1-x1_2\n",
    "    J=np.zeros((2,2))\n",
    "    J[0,0]=(calculo_error([flujo_1,x1],ASPEN)[0]-calculo_error([flujo_2,x1],ASPEN)[0] )/delta_flujo\n",
    "    J[0,1]=(calculo_error([flujo,x1_1],ASPEN)[0]-calculo_error([flujo,x1_2],ASPEN)[0] )/delta_x1\n",
    "    J[1,0]=(calculo_error([flujo_1,x1],ASPEN)[1]-calculo_error([flujo_2,x1],ASPEN)[1] )/delta_flujo\n",
    "    J[1,1]=(calculo_error([flujo,x1_1],ASPEN)[1]-calculo_error([flujo,x1_2],ASPEN)[1] )/delta_x1\n",
    "    return J\n",
    "    "
   ]
  },
  {
   "cell_type": "code",
   "execution_count": 5,
   "metadata": {},
   "outputs": [],
   "source": [
    "def newton_raphson(fun,variables,ASPEN,iteraciones_maximas=10):\n",
    "    tol=1e-6\n",
    "    error=1\n",
    "    iteracion=0\n",
    "    memoria=np.zeros((0,2))\n",
    "    memoria=np.append(memoria,[variables],axis=0)\n",
    "    errores=np.zeros((0,2))\n",
    "    DS=ASPEN.Tree.Elements.Item(\"Data\").Elements.Item(\"Flowsheeting Options\").Elements.Item(\"Design-Spec\")\n",
    "    Limite_Flujo=DS.Elements.Item(\"DS-1\").Elements.Item(\"Input\").Elements.Item(\"EXPR2\").Value\n",
    "    Limite_Flujo=int(Limite_Flujo)\n",
    "    print(Limite_Flujo)\n",
    "    while error>tol and iteracion<iteraciones_maximas:\n",
    "        if variables[0]>=Limite_Flujo:\n",
    "            variables[0]=Limite_Flujo\n",
    "        J=jacobiano(variables,ASPEN)\n",
    "        # print(J)\n",
    "        F=np.array(fun(variables,ASPEN))\n",
    "        # print(F)\n",
    "        invJ=np.linalg.inv(-J)\n",
    "        print(\"invJ\")\n",
    "        print(invJ)\n",
    "        delta=invJ.dot(F)\n",
    "        print(\"delta\")\n",
    "        print(delta)\n",
    "        # delta=np.linalg.solve(J,-F)\n",
    "        variables=variables+delta\n",
    "        print(variables[0])\n",
    "        error=np.linalg.norm(F)\n",
    "        memoria=np.append(memoria,[variables],axis=0)\n",
    "        print(iteracion)\n",
    "        errores=np.append(errores,[F],axis=0)\n",
    "        iteracion+=1\n",
    "    return variables,memoria,iteracion,errores"
   ]
  },
  {
   "cell_type": "code",
   "execution_count": 6,
   "metadata": {},
   "outputs": [
    {
     "data": {
      "text/plain": [
       "[0.026893333348605657, 0.0002995231428724519]"
      ]
     },
     "execution_count": 6,
     "metadata": {},
     "output_type": "execute_result"
    }
   ],
   "source": [
    "x=[96,0.9997]\n",
    "calculo_error(x,aspen)"
   ]
  },
  {
   "cell_type": "code",
   "execution_count": 7,
   "metadata": {},
   "outputs": [
    {
     "data": {
      "text/plain": [
       "array([[-1.01365278e-02,  0.00000000e+00],\n",
       "       [ 1.04135519e-09, -7.00663886e-01]])"
      ]
     },
     "execution_count": 7,
     "metadata": {},
     "output_type": "execute_result"
    }
   ],
   "source": [
    "jacobiano(x,aspen)"
   ]
  },
  {
   "cell_type": "code",
   "execution_count": 11,
   "metadata": {},
   "outputs": [
    {
     "name": "stdout",
     "output_type": "stream",
     "text": [
      "100\n",
      "invJ\n",
      "[[3.68091609e+03 0.00000000e+00]\n",
      " [0.00000000e+00 1.00001952e+00]]\n",
      "delta\n",
      "[9.86435101e+01 2.99529991e-04]\n",
      "194.64351006306623\n",
      "0\n",
      "invJ\n",
      "[[-7.22640025e+03 -0.00000000e+00]\n",
      " [ 0.00000000e+00  1.00001953e+00]]\n",
      "delta\n",
      "[9.86530115e+01 1.00941753e-09]\n",
      "198.65301151676317\n",
      "1\n",
      "invJ\n",
      "[[-7.22640025e+03 -0.00000000e+00]\n",
      " [ 0.00000000e+00  1.00001953e+00]]\n",
      "delta\n",
      "[ 9.86530115e+01 -2.02064631e-14]\n",
      "198.65301151676317\n",
      "2\n",
      "invJ\n",
      "[[-7.22640025e+03 -0.00000000e+00]\n",
      " [ 0.00000000e+00  1.00001953e+00]]\n",
      "delta\n",
      "[98.65301152  0.        ]\n",
      "198.65301151676317\n",
      "3\n",
      "invJ\n",
      "[[-7.22640025e+03 -0.00000000e+00]\n",
      " [ 0.00000000e+00  1.00001953e+00]]\n",
      "delta\n",
      "[98.65301152  0.        ]\n",
      "198.65301151676317\n",
      "4\n"
     ]
    },
    {
     "ename": "KeyboardInterrupt",
     "evalue": "",
     "output_type": "error",
     "traceback": [
      "\u001b[1;31m---------------------------------------------------------------------------\u001b[0m",
      "\u001b[1;31mKeyboardInterrupt\u001b[0m                         Traceback (most recent call last)",
      "Cell \u001b[1;32mIn[11], line 1\u001b[0m\n\u001b[1;32m----> 1\u001b[0m result\u001b[38;5;241m=\u001b[39m\u001b[43mnewton_raphson\u001b[49m\u001b[43m(\u001b[49m\u001b[43mcalculo_error\u001b[49m\u001b[43m,\u001b[49m\u001b[43mx\u001b[49m\u001b[43m,\u001b[49m\u001b[43maspen\u001b[49m\u001b[43m)\u001b[49m\n",
      "Cell \u001b[1;32mIn[5], line 15\u001b[0m, in \u001b[0;36mnewton_raphson\u001b[1;34m(fun, variables, ASPEN, iteraciones_maximas)\u001b[0m\n\u001b[0;32m     13\u001b[0m \u001b[38;5;28;01mif\u001b[39;00m variables[\u001b[38;5;241m0\u001b[39m]\u001b[38;5;241m>\u001b[39m\u001b[38;5;241m=\u001b[39mLimite_Flujo:\n\u001b[0;32m     14\u001b[0m     variables[\u001b[38;5;241m0\u001b[39m]\u001b[38;5;241m=\u001b[39mLimite_Flujo\n\u001b[1;32m---> 15\u001b[0m J\u001b[38;5;241m=\u001b[39m\u001b[43mjacobiano\u001b[49m\u001b[43m(\u001b[49m\u001b[43mvariables\u001b[49m\u001b[43m,\u001b[49m\u001b[43mASPEN\u001b[49m\u001b[43m)\u001b[49m\n\u001b[0;32m     16\u001b[0m \u001b[38;5;66;03m# print(J)\u001b[39;00m\n\u001b[0;32m     17\u001b[0m F\u001b[38;5;241m=\u001b[39mnp\u001b[38;5;241m.\u001b[39marray(fun(variables,ASPEN))\n",
      "Cell \u001b[1;32mIn[10], line 24\u001b[0m, in \u001b[0;36mjacobiano\u001b[1;34m(variables, ASPEN)\u001b[0m\n\u001b[0;32m     22\u001b[0m delta_x1\u001b[38;5;241m=\u001b[39mx1_1\u001b[38;5;241m-\u001b[39mx1_2\n\u001b[0;32m     23\u001b[0m J\u001b[38;5;241m=\u001b[39mnp\u001b[38;5;241m.\u001b[39mzeros((\u001b[38;5;241m2\u001b[39m,\u001b[38;5;241m2\u001b[39m))\n\u001b[1;32m---> 24\u001b[0m J[\u001b[38;5;241m0\u001b[39m,\u001b[38;5;241m0\u001b[39m]\u001b[38;5;241m=\u001b[39m(\u001b[43mcalculo_error\u001b[49m\u001b[43m(\u001b[49m\u001b[43m[\u001b[49m\u001b[43mflujo_1\u001b[49m\u001b[43m,\u001b[49m\u001b[43mx1\u001b[49m\u001b[43m]\u001b[49m\u001b[43m,\u001b[49m\u001b[43mASPEN\u001b[49m\u001b[43m)\u001b[49m[\u001b[38;5;241m0\u001b[39m]\u001b[38;5;241m-\u001b[39mcalculo_error([flujo_2,x1],ASPEN)[\u001b[38;5;241m0\u001b[39m] )\u001b[38;5;241m/\u001b[39mdelta_flujo\n\u001b[0;32m     25\u001b[0m J[\u001b[38;5;241m0\u001b[39m,\u001b[38;5;241m1\u001b[39m]\u001b[38;5;241m=\u001b[39m(calculo_error([flujo,x1_1],ASPEN)[\u001b[38;5;241m0\u001b[39m]\u001b[38;5;241m-\u001b[39mcalculo_error([flujo,x1_2],ASPEN)[\u001b[38;5;241m0\u001b[39m] )\u001b[38;5;241m/\u001b[39mdelta_x1\n\u001b[0;32m     26\u001b[0m J[\u001b[38;5;241m1\u001b[39m,\u001b[38;5;241m0\u001b[39m]\u001b[38;5;241m=\u001b[39m(calculo_error([flujo_1,x1],ASPEN)[\u001b[38;5;241m1\u001b[39m]\u001b[38;5;241m-\u001b[39mcalculo_error([flujo_2,x1],ASPEN)[\u001b[38;5;241m1\u001b[39m] )\u001b[38;5;241m/\u001b[39mdelta_flujo\n",
      "Cell \u001b[1;32mIn[3], line 23\u001b[0m, in \u001b[0;36mcalculo_error\u001b[1;34m(x, args)\u001b[0m\n\u001b[0;32m     20\u001b[0m concentracion_ingreso\u001b[38;5;241m.\u001b[39mElements\u001b[38;5;241m.\u001b[39mItem(\u001b[38;5;124m\"\u001b[39m\u001b[38;5;124mWATER\u001b[39m\u001b[38;5;124m\"\u001b[39m)\u001b[38;5;241m.\u001b[39mValue\u001b[38;5;241m=\u001b[39mx2\n\u001b[0;32m     21\u001b[0m \u001b[38;5;66;03m# concentracion_ingreso.Elements.Item(\"ETHAN-01\").Value=x3\u001b[39;00m\n\u001b[1;32m---> 23\u001b[0m \u001b[43mcorrer_simulacion\u001b[49m\u001b[43m(\u001b[49m\u001b[43maspen\u001b[49m\u001b[43m)\u001b[49m\n\u001b[0;32m     25\u001b[0m corriente_salida\u001b[38;5;241m=\u001b[39mcorrientes\u001b[38;5;241m.\u001b[39mElements\u001b[38;5;241m.\u001b[39mItem(\u001b[38;5;124m'\u001b[39m\u001b[38;5;124mGLR\u001b[39m\u001b[38;5;124m'\u001b[39m)\u001b[38;5;241m.\u001b[39mElements\u001b[38;5;241m.\u001b[39mItem(\u001b[38;5;124m\"\u001b[39m\u001b[38;5;124mOutput\u001b[39m\u001b[38;5;124m\"\u001b[39m)\n\u001b[0;32m     26\u001b[0m flujo_salida\u001b[38;5;241m=\u001b[39mcorriente_salida\u001b[38;5;241m.\u001b[39mElements\u001b[38;5;241m.\u001b[39mItem(\u001b[38;5;124m\"\u001b[39m\u001b[38;5;124mTOT_FLOW\u001b[39m\u001b[38;5;124m\"\u001b[39m)\u001b[38;5;241m.\u001b[39mValue\n",
      "Cell \u001b[1;32mIn[2], line 8\u001b[0m, in \u001b[0;36mcorrer_simulacion\u001b[1;34m(aspen)\u001b[0m\n\u001b[0;32m      7\u001b[0m \u001b[38;5;28;01mdef\u001b[39;00m \u001b[38;5;21mcorrer_simulacion\u001b[39m(aspen):\n\u001b[1;32m----> 8\u001b[0m     \u001b[43maspen\u001b[49m\u001b[38;5;241;43m.\u001b[39;49m\u001b[43mEngine\u001b[49m\u001b[38;5;241;43m.\u001b[39;49m\u001b[43mRun2\u001b[49m\u001b[43m(\u001b[49m\u001b[43m)\u001b[49m\n\u001b[0;32m      9\u001b[0m     \u001b[38;5;28;01mwhile\u001b[39;00m aspen\u001b[38;5;241m.\u001b[39mEngine\u001b[38;5;241m.\u001b[39misRunning:\n\u001b[0;32m     10\u001b[0m         time\u001b[38;5;241m.\u001b[39msleep(\u001b[38;5;241m1\u001b[39m)\n",
      "File \u001b[1;32m<COMObject <unknown>>:2\u001b[0m, in \u001b[0;36mRun2\u001b[1;34m(self, Async)\u001b[0m\n",
      "\u001b[1;31mKeyboardInterrupt\u001b[0m: "
     ]
    }
   ],
   "source": [
    "result=newton_raphson(calculo_error,x,aspen)"
   ]
  },
  {
   "cell_type": "code",
   "execution_count": 14,
   "metadata": {},
   "outputs": [],
   "source": [
    "# aspen.Close()\n",
    "aspen.Quit()"
   ]
  },
  {
   "cell_type": "code",
   "execution_count": 124,
   "metadata": {},
   "outputs": [
    {
     "data": {
      "image/png": "[encoded data removed]",
      "text/plain": [
       "<Figure size 640x480 with 1 Axes>"
      ]
     },
     "metadata": {},
     "output_type": "display_data"
    }
   ],
   "source": [
    "plt.figure()\n",
    "plt.plot(result[1][:,0],result[1][:,1])\n",
    "plt.show()"
   ]
  },
  {
   "cell_type": "code",
   "execution_count": 125,
   "metadata": {},
   "outputs": [],
   "source": [
    "resultados=pd.DataFrame(result[1],columns=[\"Flujo\",\"Concentración\"])\n",
    "resultados[\"Iteracion\"]=np.arange(resultados.shape[0])\n",
    "resultados.set_index(\"Iteracion\",inplace=True)\n",
    "\n"
   ]
  },
  {
   "cell_type": "code",
   "execution_count": 126,
   "metadata": {},
   "outputs": [
    {
     "data": {
      "image/png": "[encoded data removed]",
      "text/plain": [
       "<Figure size 640x480 with 1 Axes>"
      ]
     },
     "metadata": {},
     "output_type": "display_data"
    }
   ],
   "source": [
    "plt.figure()\n",
    "plt.plot(resultados[\"Flujo\"])\n",
    "plt.show()"
   ]
  },
  {
   "cell_type": "code",
   "execution_count": 127,
   "metadata": {},
   "outputs": [
    {
     "name": "stdout",
     "output_type": "stream",
     "text": [
      "(array([98.653111 ,  1.0001268]), array([[96.        ,  0.9997    ],\n",
      "       [98.653111  ,  1.00012749],\n",
      "       [98.653111  ,  1.0001268 ]]), 2, array([[ 2.68933333e-02,  2.99524143e-04],\n",
      "       [ 0.00000000e+00, -4.70000221e-07]]))\n"
     ]
    }
   ],
   "source": [
    "print(result)"
   ]
  }
 ],
 "metadata": {
  "kernelspec": {
   "display_name": "Tesis",
   "language": "python",
   "name": "python3"
  },
  "language_info": {
   "codemirror_mode": {
    "name": "ipython",
    "version": 3
   },
   "file_extension": ".py",
   "mimetype": "text/x-python",
   "name": "python",
   "nbconvert_exporter": "python",
   "pygments_lexer": "ipython3",
   "version": "3.11.9"
  }
 },
 "nbformat": 4,
 "nbformat_minor": 2
}
